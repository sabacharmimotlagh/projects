{
  "cells": [
    {
      "cell_type": "code",
      "execution_count": 5,
      "id": "b0cbc695",
      "metadata": {
        "id": "b0cbc695"
      },
      "outputs": [],
      "source": [
        "import numpy as np\n",
        "import matplotlib.pyplot as plt\n",
        "import pandas as pd\n",
        "import cv2\n",
        "import os\n",
        "import tensorflow as tf\n",
        "from tensorflow import keras\n",
        "from keras.models import Sequential\n",
        "from create_training import *\n",
        "from CNN import *\n",
        "\n",
        "%matplotlib inline"
      ]
    },
    {
      "cell_type": "code",
      "execution_count": 6,
      "id": "P4jta_3QZBKW",
      "metadata": {
        "colab": {
          "base_uri": "https://localhost:8080/"
        },
        "id": "P4jta_3QZBKW",
        "outputId": "1e6a969a-d612-4388-c605-1410c87e7afb"
      },
      "outputs": [
        {
          "name": "stdout",
          "output_type": "stream",
          "text": [
            "Drive already mounted at /content/drive; to attempt to forcibly remount, call drive.mount(\"/content/drive\", force_remount=True).\n"
          ]
        }
      ],
      "source": [
        "# Change PATH to working directory on Google Drive\n",
        "from google.colab import drive\n",
        "drive.mount('/content/drive')"
      ]
    },
    {
      "cell_type": "code",
      "execution_count": 7,
      "id": "c1a1e596",
      "metadata": {
        "id": "c1a1e596"
      },
      "outputs": [],
      "source": [
        "# training data directory\n",
        "PATH = \"/content/drive/MyDrive/PetImages\"\n",
        "# image categories\n",
        "categories = [\"Dog\", \"Cat\"]\n",
        "# desired image size\n",
        "IMAGE_SIZE = 100"
      ]
    },
    {
      "cell_type": "code",
      "execution_count": 11,
      "id": "c49e19f6",
      "metadata": {
        "id": "c49e19f6"
      },
      "outputs": [],
      "source": [
        "# loading training dataset inside the training_data file\n",
        "training_data = create_training(PATH, categories, IMG_SIZE=IMAGE_SIZE)"
      ]
    },
    {
      "cell_type": "code",
      "execution_count": 12,
      "id": "42a0d121",
      "metadata": {
        "id": "42a0d121"
      },
      "outputs": [],
      "source": [
        "X_train = []\n",
        "Y_train = []\n",
        "\n",
        "# making X_train and Y_train lists which are image features and corresponding labels\n",
        "for img, label in training_data:\n",
        "    X_train.append(img)\n",
        "    Y_train.append(label)\n",
        "\n",
        "\n",
        "X_train = np.array(X_train).reshape(-1, IMAGE_SIZE, IMAGE_SIZE, 1)\n",
        "Y_train = np.array(Y_train)\n",
        "\n",
        "# Normalize image vectors\n",
        "X_train = X_train/.255"
      ]
    },
    {
      "cell_type": "code",
      "execution_count": 13,
      "id": "c9e959c1",
      "metadata": {
        "colab": {
          "base_uri": "https://localhost:8080/"
        },
        "id": "c9e959c1",
        "outputId": "0274cba7-441d-4de5-b0a6-eb2649f54324"
      },
      "outputs": [
        {
          "name": "stdout",
          "output_type": "stream",
          "text": [
            "Epoch 1/10\n",
            "702/702 [==============================] - 36s 44ms/step - loss: 27.8624 - accuracy: 0.5118 - val_loss: 0.6911 - val_accuracy: 0.5307\n",
            "Epoch 2/10\n",
            "702/702 [==============================] - 30s 43ms/step - loss: 0.6878 - accuracy: 0.5273 - val_loss: 0.6922 - val_accuracy: 0.5279\n",
            "Epoch 3/10\n",
            "702/702 [==============================] - 30s 42ms/step - loss: 0.6776 - accuracy: 0.5399 - val_loss: 0.7072 - val_accuracy: 0.4846\n",
            "Epoch 4/10\n",
            "702/702 [==============================] - 30s 43ms/step - loss: 0.6599 - accuracy: 0.5611 - val_loss: 0.7431 - val_accuracy: 0.5371\n",
            "Epoch 5/10\n",
            "702/702 [==============================] - 30s 42ms/step - loss: 0.6405 - accuracy: 0.5765 - val_loss: 0.7968 - val_accuracy: 0.5403\n",
            "Epoch 6/10\n",
            "702/702 [==============================] - 30s 42ms/step - loss: 0.6127 - accuracy: 0.6035 - val_loss: 0.8709 - val_accuracy: 0.5375\n",
            "Epoch 7/10\n",
            "702/702 [==============================] - 30s 43ms/step - loss: 0.5874 - accuracy: 0.6221 - val_loss: 1.0230 - val_accuracy: 0.5403\n",
            "Epoch 8/10\n",
            "702/702 [==============================] - 29s 42ms/step - loss: 0.5609 - accuracy: 0.6464 - val_loss: 1.1367 - val_accuracy: 0.5331\n",
            "Epoch 9/10\n",
            "702/702 [==============================] - 30s 42ms/step - loss: 0.5426 - accuracy: 0.6564 - val_loss: 1.1503 - val_accuracy: 0.5399\n",
            "Epoch 10/10\n",
            "702/702 [==============================] - 30s 42ms/step - loss: 0.5262 - accuracy: 0.6703 - val_loss: 1.3062 - val_accuracy: 0.5531\n"
          ]
        },
        {
          "data": {
            "text/plain": [
              "<keras.src.callbacks.History at 0x7e9b3dbfb550>"
            ]
          },
          "execution_count": 13,
          "metadata": {},
          "output_type": "execute_result"
        }
      ],
      "source": [
        "# create the model\n",
        "model = my_model()\n",
        "\n",
        "# train the model using our dataset\n",
        "model.fit(X_train, Y_train, batch_size=32, epochs=10, validation_split=0.1)"
      ]
    }
  ],
  "metadata": {
    "accelerator": "GPU",
    "colab": {
      "gpuType": "T4",
      "provenance": []
    },
    "kernelspec": {
      "display_name": "Python 3",
      "name": "python3"
    },
    "language_info": {
      "codemirror_mode": {
        "name": "ipython",
        "version": 3
      },
      "file_extension": ".py",
      "mimetype": "text/x-python",
      "name": "python",
      "nbconvert_exporter": "python",
      "pygments_lexer": "ipython3",
      "version": "3.11.5"
    }
  },
  "nbformat": 4,
  "nbformat_minor": 5
}
